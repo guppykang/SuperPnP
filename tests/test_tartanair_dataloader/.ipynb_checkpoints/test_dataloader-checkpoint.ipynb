{
 "cells": [
  {
   "cell_type": "code",
   "execution_count": 1,
   "metadata": {},
   "outputs": [],
   "source": [
    "import os, sys\n",
    "sys.path.append(\"/jbk001-data1/git/SuperPnP\")\n",
    "\n",
    "from utils.TARTANAIR_dataset import TARTANAIR_Dataset as Dataset\n",
    "import torch\n"
   ]
  },
  {
   "cell_type": "code",
   "execution_count": 2,
   "metadata": {},
   "outputs": [],
   "source": [
    "dataset = Dataset(\"/jbk001-data1-large/TartanAir/ocean/ocean/Easy/P000\")\n",
    "dataloader = torch.utils.data.DataLoader(dataset, batch_size=1, shuffle=True, drop_last=False)\n",
    "\n",
    "image1 = None\n",
    "image2 = None\n",
    "for idx, i in enumerate(dataloader):\n",
    "    "
   ]
  },
  {
   "cell_type": "code",
   "execution_count": null,
   "metadata": {},
   "outputs": [],
   "source": []
  }
 ],
 "metadata": {
  "kernelspec": {
   "display_name": "Python 3",
   "language": "python",
   "name": "python3"
  },
  "language_info": {
   "codemirror_mode": {
    "name": "ipython",
    "version": 3
   },
   "file_extension": ".py",
   "mimetype": "text/x-python",
   "name": "python",
   "nbconvert_exporter": "python",
   "pygments_lexer": "ipython3",
   "version": "3.7.6"
  }
 },
 "nbformat": 4,
 "nbformat_minor": 4
}
